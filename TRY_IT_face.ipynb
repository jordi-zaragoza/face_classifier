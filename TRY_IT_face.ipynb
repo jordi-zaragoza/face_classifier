{
 "cells": [
  {
   "cell_type": "markdown",
   "id": "624b7790",
   "metadata": {},
   "source": [
    "# Here you can try the face classifier"
   ]
  },
  {
   "cell_type": "code",
   "execution_count": 1,
   "id": "ec7b95d6",
   "metadata": {
    "scrolled": true
   },
   "outputs": [
    {
     "name": "stdout",
     "output_type": "stream",
     "text": [
      "WARNING:tensorflow:Using a while_loop for converting RngReadAndSkip cause there is no registered converter for this op.\n",
      "WARNING:tensorflow:Using a while_loop for converting Bitcast cause there is no registered converter for this op.\n",
      "WARNING:tensorflow:Using a while_loop for converting Bitcast cause there is no registered converter for this op.\n",
      "WARNING:tensorflow:Using a while_loop for converting StatelessRandomUniformV2 cause there is no registered converter for this op.\n",
      "WARNING:tensorflow:Using a while_loop for converting ImageProjectiveTransformV3 cause there is no registered converter for this op.\n",
      "WARNING:tensorflow:Using a while_loop for converting RngReadAndSkip cause there is no registered converter for this op.\n",
      "WARNING:tensorflow:Using a while_loop for converting Bitcast cause there is no registered converter for this op.\n",
      "WARNING:tensorflow:Using a while_loop for converting Bitcast cause there is no registered converter for this op.\n",
      "WARNING:tensorflow:Using a while_loop for converting StatelessRandomUniformFullIntV2 cause there is no registered converter for this op.\n",
      "WARNING:tensorflow:Using a while_loop for converting StatelessRandomGetKeyCounter cause there is no registered converter for this op.\n",
      "WARNING:tensorflow:Using a while_loop for converting StatelessRandomUniformV2 cause there is no registered converter for this op.\n",
      "WARNING:tensorflow:Using a while_loop for converting AdjustContrastv2 cause Input \"contrast_factor\" of op 'AdjustContrastv2' expected to be loop invariant.\n",
      "WARNING:tensorflow:Using a while_loop for converting RngReadAndSkip cause there is no registered converter for this op.\n",
      "WARNING:tensorflow:Using a while_loop for converting Bitcast cause there is no registered converter for this op.\n",
      "WARNING:tensorflow:Using a while_loop for converting Bitcast cause there is no registered converter for this op.\n",
      "WARNING:tensorflow:Using a while_loop for converting StatelessRandomUniformV2 cause there is no registered converter for this op.\n",
      "WARNING:tensorflow:Using a while_loop for converting ImageProjectiveTransformV3 cause there is no registered converter for this op.\n",
      "Loaded model:  model_eye\n",
      "Loaded model:  model_sunglasses\n",
      "Loaded model:  model_blurry\n",
      "Loaded model:  model_profile\n"
     ]
    }
   ],
   "source": [
    "from face_classify import classifier"
   ]
  },
  {
   "cell_type": "markdown",
   "id": "f47c9e2f",
   "metadata": {},
   "source": [
    "## Closed eyes"
   ]
  },
  {
   "cell_type": "code",
   "execution_count": 2,
   "id": "b6a7c9f5",
   "metadata": {},
   "outputs": [
    {
     "ename": "TypeError",
     "evalue": "classifier() got an unexpected keyword argument 'image_or_path'",
     "output_type": "error",
     "traceback": [
      "\u001b[0;31m---------------------------------------------------------------------------\u001b[0m",
      "\u001b[0;31mTypeError\u001b[0m                                 Traceback (most recent call last)",
      "\u001b[0;32m<ipython-input-2-5770ac7b8b69>\u001b[0m in \u001b[0;36m<module>\u001b[0;34m\u001b[0m\n\u001b[0;32m----> 1\u001b[0;31m \u001b[0mclassifier\u001b[0m\u001b[0;34m(\u001b[0m\u001b[0mname\u001b[0m\u001b[0;34m=\u001b[0m\u001b[0;34m'face1'\u001b[0m\u001b[0;34m,\u001b[0m \u001b[0mimage_or_path\u001b[0m\u001b[0;34m=\u001b[0m\u001b[0;34m'face_classify/data/open_test/closed5.jpg'\u001b[0m\u001b[0;34m)\u001b[0m\u001b[0;34m\u001b[0m\u001b[0;34m\u001b[0m\u001b[0m\n\u001b[0m",
      "\u001b[0;31mTypeError\u001b[0m: classifier() got an unexpected keyword argument 'image_or_path'"
     ]
    }
   ],
   "source": [
    "classifier(name='face1', image_or_path='face_classify/data/open_test/closed5.jpg')"
   ]
  },
  {
   "cell_type": "markdown",
   "id": "5e264849",
   "metadata": {},
   "source": [
    "### with crop face"
   ]
  },
  {
   "cell_type": "code",
   "execution_count": null,
   "id": "c5bdbc45",
   "metadata": {},
   "outputs": [],
   "source": [
    "classifier(name='face1', image_or_path='face_classify/data/open_test/closed5.jpg', crop_face = True)"
   ]
  },
  {
   "cell_type": "markdown",
   "id": "a53b8427",
   "metadata": {},
   "source": [
    "## Open eyes"
   ]
  },
  {
   "cell_type": "code",
   "execution_count": null,
   "id": "96b6b2ef",
   "metadata": {},
   "outputs": [],
   "source": [
    "classifier(name='face2', image_or_path='face_classify/data/open_test/open1.jpg', crop_face = True)"
   ]
  },
  {
   "cell_type": "markdown",
   "id": "323127d7",
   "metadata": {},
   "source": [
    "## Profile"
   ]
  },
  {
   "cell_type": "code",
   "execution_count": null,
   "id": "16681b59",
   "metadata": {},
   "outputs": [],
   "source": [
    "classifier(name='face3', image_or_path='face_classify/data/profile_test/profile2.jpg', crop_face = True)"
   ]
  },
  {
   "cell_type": "markdown",
   "id": "eb65c627",
   "metadata": {},
   "source": [
    "## Sunglasses"
   ]
  },
  {
   "cell_type": "code",
   "execution_count": null,
   "id": "b00485a4",
   "metadata": {},
   "outputs": [],
   "source": [
    "classifier(name='face4', image_or_path='face_classify/data/sunglasses_test/sunglass4.jpg', crop_face = True)"
   ]
  },
  {
   "cell_type": "markdown",
   "id": "21b1e7fd",
   "metadata": {},
   "source": [
    "## Blurry"
   ]
  },
  {
   "cell_type": "code",
   "execution_count": null,
   "id": "1ceacddc",
   "metadata": {},
   "outputs": [],
   "source": [
    "classifier(name='face5', image_or_path='face_classify/data/blurry_test/blurry12.jpg', crop_face = True)"
   ]
  },
  {
   "cell_type": "code",
   "execution_count": null,
   "id": "dd4035de",
   "metadata": {},
   "outputs": [],
   "source": []
  }
 ],
 "metadata": {
  "kernelspec": {
   "display_name": "Python 3 (ipykernel)",
   "language": "python",
   "name": "python3"
  },
  "language_info": {
   "codemirror_mode": {
    "name": "ipython",
    "version": 3
   },
   "file_extension": ".py",
   "mimetype": "text/x-python",
   "name": "python",
   "nbconvert_exporter": "python",
   "pygments_lexer": "ipython3",
   "version": "3.9.5"
  }
 },
 "nbformat": 4,
 "nbformat_minor": 5
}
